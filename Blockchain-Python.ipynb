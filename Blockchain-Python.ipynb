{
 "cells": [
  {
   "cell_type": "markdown",
   "id": "legislative-blanket",
   "metadata": {},
   "source": [
    "### Pull Bitcoin Network Statistics via Blockchain Library "
   ]
  },
  {
   "cell_type": "code",
   "execution_count": 17,
   "id": "adjusted-welcome",
   "metadata": {},
   "outputs": [
    {
     "name": "stdout",
     "output_type": "stream",
     "text": [
      "Trade Volume: 17249.02\n",
      "Mining Difficulty: 23581981443663\n",
      "Hash Rate: 151222398619.5379\n",
      "Total BTC in circulation (satoshis): 1869198125000000\n",
      "Total Blocks: 680717\n",
      "USD Price of BTC: 53388.97\n"
     ]
    }
   ],
   "source": [
    "from blockchain import statistics\n",
    "\n",
    "stats = statistics.get()\n",
    "\n",
    "print(f\"Trade Volume: {stats.trade_volume_btc}\")\n",
    "print(f\"Mining Difficulty: {stats.difficulty}\")\n",
    "print(f\"Hash Rate: {stats.hash_rate}\")\n",
    "print(f\"Total BTC in circulation (satoshis): {stats.total_btc}\")\n",
    "print(f\"Total Blocks: {stats.total_blocks}\")\n",
    "print(f\"USD Price of BTC: {stats.market_price_usd}\")"
   ]
  },
  {
   "cell_type": "code",
   "execution_count": null,
   "id": "designed-accommodation",
   "metadata": {},
   "outputs": [],
   "source": []
  }
 ],
 "metadata": {
  "kernelspec": {
   "display_name": "Python 3",
   "language": "python",
   "name": "python3"
  },
  "language_info": {
   "codemirror_mode": {
    "name": "ipython",
    "version": 3
   },
   "file_extension": ".py",
   "mimetype": "text/x-python",
   "name": "python",
   "nbconvert_exporter": "python",
   "pygments_lexer": "ipython3",
   "version": "3.9.1"
  }
 },
 "nbformat": 4,
 "nbformat_minor": 5
}
