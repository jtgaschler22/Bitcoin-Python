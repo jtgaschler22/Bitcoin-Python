{
 "cells": [
  {
   "cell_type": "markdown",
   "id": "boxed-amber",
   "metadata": {},
   "source": [
    "### Create Bitcoin Private/Public Key Pairs and Derive an Address"
   ]
  },
  {
   "cell_type": "code",
   "execution_count": 1,
   "id": "satisfactory-family",
   "metadata": {},
   "outputs": [],
   "source": [
    "# Import Bitcoin\n",
    "from bitcoin import *"
   ]
  },
  {
   "cell_type": "code",
   "execution_count": 2,
   "id": "written-section",
   "metadata": {},
   "outputs": [
    {
     "name": "stdout",
     "output_type": "stream",
     "text": [
      "Private Key: ffd99e71b3ae9694b128fdd253a7c9143d1f842bc477d280fadecf5f6cdba9fc\n"
     ]
    }
   ],
   "source": [
    "# Generate and print Private Key \n",
    "priv_key = random_key() \n",
    "print(f\"Private Key: {priv_key}\")"
   ]
  },
  {
   "cell_type": "code",
   "execution_count": 3,
   "id": "understanding-coffee",
   "metadata": {},
   "outputs": [
    {
     "name": "stdout",
     "output_type": "stream",
     "text": [
      "Public Key: 04ac93625b035fa3538c4e8891cb73ea8272e097a120709c446e28dd307587ae89f8a8a0f7c1b71e7a3074be8b53003071487e1f2b22b7258c21f8613a0e7ba5fd\n"
     ]
    }
   ],
   "source": [
    "# Generate and print Public Key \n",
    "pub_key = privtopub(priv_key)\n",
    "print(f\"Public Key: {pub_key}\")"
   ]
  },
  {
   "cell_type": "code",
   "execution_count": 4,
   "id": "widespread-trading",
   "metadata": {},
   "outputs": [
    {
     "name": "stdout",
     "output_type": "stream",
     "text": [
      "Bitcoin Wallet Address: 14X4XWuHsV3GKg4T79AQKt5Ueq6UePwTo7\n"
     ]
    }
   ],
   "source": [
    "# Generate new wallet address\n",
    "btc_address = pubtoaddr(pub_key)\n",
    "print(f\"Bitcoin Wallet Address: {btc_address}\")"
   ]
  },
  {
   "cell_type": "markdown",
   "id": "certain-circle",
   "metadata": {},
   "source": [
    "### Create a Multisig Address"
   ]
  },
  {
   "cell_type": "code",
   "execution_count": 5,
   "id": "heard-hearts",
   "metadata": {},
   "outputs": [
    {
     "name": "stdout",
     "output_type": "stream",
     "text": [
      "Private Key 1: b062ed42205ced7f2a60d8947327f5bb5714d52587b3c4dcdd0ee609fbef5d75\n",
      "Private Key 2: a426c3894cfac25fdbb444c1acb7456ae559c43cc8d2bb86731904bf9f12980b\n",
      "Private Key 3: b967e7579966f307aa7cdaec597b820502b102eda70a34b10280b463eb36183f\n"
     ]
    }
   ],
   "source": [
    "#Import Bitcoin\n",
    "from bitcoin import *\n",
    "\n",
    "# Create 3 private keys, for this example we will create a 2 of 3 multisig address\n",
    "multi_priv_key_1 = random_key()\n",
    "multi_priv_key_2 = random_key()\n",
    "multi_priv_key_3 = random_key()\n",
    "\n",
    "print(f\"Private Key 1: {multi_priv_key_1}\")\n",
    "print(f\"Private Key 2: {multi_priv_key_2}\")\n",
    "print(f\"Private Key 3: {multi_priv_key_3}\")"
   ]
  },
  {
   "cell_type": "code",
   "execution_count": 6,
   "id": "modular-occupation",
   "metadata": {},
   "outputs": [
    {
     "name": "stdout",
     "output_type": "stream",
     "text": [
      "Public Key 1: 04482b567ab8dbaae7de18639b4a435a6c0ecbca5899e27526f9324243c54dbe5c9d2a11664857654eda3c3e79c10ac66248b4ee874ecc7d1e667a0babf6f3a9dd\n",
      "Public Key 2: 04062d14705dcab7b0e19267fbf6b0f91108aec4d6c7e0faae1e856b8ba41220644be8b01042113afc75a5d56cb996ad4fe07b756a61a808ce5f200f89f58da3cf\n",
      "Public Key 3: 0440d0e10f0e1b7a94807b8c54d7911a1829af9b8a52539c14e5f01542e2ab2fe9d5f7e475516cf930717f3b725d74759f100bae2cc1e7d4b61c2bd4625982cdcb\n"
     ]
    }
   ],
   "source": [
    "# Create multiple public keys\n",
    "multi_pub_key_1 = privtopub(multi_priv_key_1)\n",
    "multi_pub_key_2 = privtopub(multi_priv_key_2)\n",
    "multi_pub_key_3 = privtopub(multi_priv_key_3)\n",
    "\n",
    "print(f\"Public Key 1: {multi_pub_key_1}\")\n",
    "print(f\"Public Key 2: {multi_pub_key_2}\")\n",
    "print(f\"Public Key 3: {multi_pub_key_3}\")"
   ]
  },
  {
   "cell_type": "code",
   "execution_count": 7,
   "id": "retained-offense",
   "metadata": {},
   "outputs": [
    {
     "name": "stdout",
     "output_type": "stream",
     "text": [
      "MultiSig Address: 34cVWYBj2wKaGB5ghKumWgRDeLtFrQygfB\n"
     ]
    }
   ],
   "source": [
    "# Create the 2 0f 3 multisig address\n",
    "multisig = mk_multisig_script(multi_pub_key_1, multi_pub_key_2, multi_pub_key_3, 2, 3)\n",
    "multisig_address = scriptaddr(multisig)\n",
    "print(f\"MultiSig Address: {multisig_address}\")"
   ]
  },
  {
   "cell_type": "markdown",
   "id": "unlike-speed",
   "metadata": {},
   "source": [
    "### Search for Transaction History Given a Valid Bitcoin Address"
   ]
  },
  {
   "cell_type": "code",
   "execution_count": 8,
   "id": "featured-library",
   "metadata": {},
   "outputs": [
    {
     "name": "stdout",
     "output_type": "stream",
     "text": [
      "[{'address': '3HPv3dPKCfTBrqsuByr5YskzomN7eHS2Uv', 'value': 346731, 'output': '6a04a343f3662bc0de61c7fd9909e36d60d6b89854b3a1716cdbea021941d97d:0', 'block_height': 680011, 'spend': '131825f3c4ebbf0f01a894b202ec557cf9b982cd844de6b24233e7538dd9f01b:1'}, {'address': '3HPv3dPKCfTBrqsuByr5YskzomN7eHS2Uv', 'value': 499389, 'output': '623f9fe20b7bd8dc69d150fa979f4c75a6c45a2fc86acf28fa1bdad432833121:3', 'block_height': 679772, 'spend': '311d5d01bc2a1f00dcdce2e9d46815bafa05f6a254893c72cc8bf60d3a3f802a:0'}]\n"
     ]
    }
   ],
   "source": [
    "# Import Bitcoin\n",
    "from bitcoin import *\n",
    "\n",
    "#Set an address as a variable and look up transaction history\n",
    "bit_address = '3HPv3dPKCfTBrqsuByr5YskzomN7eHS2Uv'\n",
    "print(history(bit_address))"
   ]
  },
  {
   "cell_type": "markdown",
   "id": "bulgarian-guard",
   "metadata": {},
   "source": [
    "### Pull Bitcoin Network Statistics via Blockchain Library "
   ]
  },
  {
   "cell_type": "code",
   "execution_count": 20,
   "id": "simple-error",
   "metadata": {},
   "outputs": [
    {
     "name": "stdout",
     "output_type": "stream",
     "text": [
      "Trade Volume: 11186.92\n",
      "Mining Difficulty: 23581981443663\n",
      "Hash Rate: 118398932252.50647\n",
      "Total BTC in circulation (satoshis): 1868791875000000\n",
      "Total Blocks: 680067\n",
      "USD Price of BTC: 54256.09\n"
     ]
    }
   ],
   "source": [
    "from blockchain import statistics\n",
    "\n",
    "stats = statistics.get()\n",
    "\n",
    "print(f\"Trade Volume: {stats.trade_volume_btc}\")\n",
    "print(f\"Mining Difficulty: {stats.difficulty}\")\n",
    "print(f\"Hash Rate: {stats.hash_rate}\")\n",
    "print(f\"Total BTC in circulation (satoshis): {stats.total_btc}\")\n",
    "print(f\"Total Blocks: {stats.total_blocks}\")\n",
    "print(f\"USD Price of BTC: {stats.market_price_usd}\")"
   ]
  },
  {
   "cell_type": "code",
   "execution_count": null,
   "id": "middle-hebrew",
   "metadata": {},
   "outputs": [],
   "source": []
  }
 ],
 "metadata": {
  "kernelspec": {
   "display_name": "Python 3",
   "language": "python",
   "name": "python3"
  },
  "language_info": {
   "codemirror_mode": {
    "name": "ipython",
    "version": 3
   },
   "file_extension": ".py",
   "mimetype": "text/x-python",
   "name": "python",
   "nbconvert_exporter": "python",
   "pygments_lexer": "ipython3",
   "version": "3.9.1"
  }
 },
 "nbformat": 4,
 "nbformat_minor": 5
}
