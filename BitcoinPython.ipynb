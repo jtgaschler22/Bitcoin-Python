{
 "cells": [
  {
   "cell_type": "markdown",
   "id": "circular-pepper",
   "metadata": {},
   "source": [
    "### Create Bitcoin Private/Public Key Pairs and Derive an Address"
   ]
  },
  {
   "cell_type": "code",
   "execution_count": 1,
   "id": "exclusive-secretary",
   "metadata": {},
   "outputs": [],
   "source": [
    "# Import Bitcoin\n",
    "from bitcoin import *"
   ]
  },
  {
   "cell_type": "code",
   "execution_count": 2,
   "id": "color-lotus",
   "metadata": {},
   "outputs": [
    {
     "name": "stdout",
     "output_type": "stream",
     "text": [
      "Private Key: 1858aead59cbe482ef3c0631bf1d98594fa8364294ce95e26c7d5a31502352c9\n"
     ]
    }
   ],
   "source": [
    "# Generate and print Private Key \n",
    "priv_key = random_key() \n",
    "print(f\"Private Key: {priv_key}\")"
   ]
  },
  {
   "cell_type": "code",
   "execution_count": 3,
   "id": "exempt-publication",
   "metadata": {},
   "outputs": [
    {
     "name": "stdout",
     "output_type": "stream",
     "text": [
      "Public Key: 04e8c79a62db13eb1d6aac4bd3bbbbfae6efd2a0e183a9b9fa8f16c65a2c2306f41de02be63cdc5abe065e8e75198c1378720dff2d0e553b48e8888e9989b0d3e7\n"
     ]
    }
   ],
   "source": [
    "# Generate and print Public Key \n",
    "pub_key = privtopub(priv_key)\n",
    "print(f\"Public Key: {pub_key}\")"
   ]
  },
  {
   "cell_type": "code",
   "execution_count": 4,
   "id": "continent-armstrong",
   "metadata": {},
   "outputs": [
    {
     "name": "stdout",
     "output_type": "stream",
     "text": [
      "Bitcoin Wallet Address: 1PYZwdJgpEJKQrZGUu5ru9zXbjPcYKouSb\n"
     ]
    }
   ],
   "source": [
    "# Generate new wallet address\n",
    "btc_address = pubtoaddr(pub_key)\n",
    "print(f\"Bitcoin Wallet Address: {btc_address}\")"
   ]
  },
  {
   "cell_type": "code",
   "execution_count": 5,
   "id": "breathing-webmaster",
   "metadata": {},
   "outputs": [
    {
     "name": "stdout",
     "output_type": "stream",
     "text": [
      "BTC Address from Private Key: 1PYZwdJgpEJKQrZGUu5ru9zXbjPcYKouSb\n"
     ]
    }
   ],
   "source": [
    "# Alternatively, create address from private key (Derives the same address as above)\n",
    "address_from_privkey = privtoaddr(priv_key)\n",
    "print(f\"BTC Address from Private Key: {address_from_privkey}\")"
   ]
  },
  {
   "cell_type": "markdown",
   "id": "rocky-friday",
   "metadata": {},
   "source": [
    "### Create a Multisig Address"
   ]
  },
  {
   "cell_type": "code",
   "execution_count": 6,
   "id": "weekly-replication",
   "metadata": {},
   "outputs": [
    {
     "name": "stdout",
     "output_type": "stream",
     "text": [
      "Private Key 1: a6d23f6643ee4450ae4c5a0370d506683334f2166a1f1d693685673fdbd381b1\n",
      "Private Key 2: 33ff581e4c5ad0eeeab9d37c51552006b4c716d2a7569833351f2030b13717c0\n",
      "Private Key 3: 7ad631b2ad9ed7e8abdc7ebec172e42cc339555cd942773cfb9932068c36a1c5\n"
     ]
    }
   ],
   "source": [
    "#Import Bitcoin\n",
    "from bitcoin import *\n",
    "\n",
    "# Create 3 private keys, for this example we will create a 2 of 3 multisig address\n",
    "multi_priv_key_1 = random_key()\n",
    "multi_priv_key_2 = random_key()\n",
    "multi_priv_key_3 = random_key()\n",
    "\n",
    "print(f\"Private Key 1: {multi_priv_key_1}\")\n",
    "print(f\"Private Key 2: {multi_priv_key_2}\")\n",
    "print(f\"Private Key 3: {multi_priv_key_3}\")"
   ]
  },
  {
   "cell_type": "code",
   "execution_count": 7,
   "id": "clear-winning",
   "metadata": {},
   "outputs": [
    {
     "name": "stdout",
     "output_type": "stream",
     "text": [
      "Public Key 1: 04d0cd1cdf74d622029d4dc0d8b326ebfc0a5c263a22988fb5cbb3d3b41fba68817ce7988af9bd9892ae7f54e9c89ae0f3c6da39027be1e5040785633cd0ecef80\n",
      "Public Key 2: 04b96f56e8469811607175ca048b1dc8d91cb40bf3164a154e4c76f396c9a068a2573ac396cfd3addb56cda9d057cb98131fee1b27100efb48f7c2a52f96e259ba\n",
      "Public Key 3: 049d861b52129dc97aada3427277b47da86fcc4fae602c577d3702cb4ace2055b938a15281d513448af8cf8dade851ba6d154d7e7d1d3c33acc2b610527ca87e33\n"
     ]
    }
   ],
   "source": [
    "# Create multiple public keys\n",
    "multi_pub_key_1 = privtopub(multi_priv_key_1)\n",
    "multi_pub_key_2 = privtopub(multi_priv_key_2)\n",
    "multi_pub_key_3 = privtopub(multi_priv_key_3)\n",
    "\n",
    "print(f\"Public Key 1: {multi_pub_key_1}\")\n",
    "print(f\"Public Key 2: {multi_pub_key_2}\")\n",
    "print(f\"Public Key 3: {multi_pub_key_3}\")"
   ]
  },
  {
   "cell_type": "code",
   "execution_count": 8,
   "id": "described-advocacy",
   "metadata": {},
   "outputs": [
    {
     "name": "stdout",
     "output_type": "stream",
     "text": [
      "MultiSig Address: 3HQqKnQzfZMb8K6Vwky2qc7TExEqtWHENG\n"
     ]
    }
   ],
   "source": [
    "# Create the 2 0f 3 multisig address\n",
    "multisig = mk_multisig_script(multi_pub_key_1, multi_pub_key_2, multi_pub_key_3, 2, 3)\n",
    "multisig_address = scriptaddr(multisig)\n",
    "print(f\"MultiSig Address: {multisig_address}\")"
   ]
  },
  {
   "cell_type": "markdown",
   "id": "broke-sterling",
   "metadata": {},
   "source": [
    "### Search for Transaction History Given a Valid Bitcoin Address"
   ]
  },
  {
   "cell_type": "code",
   "execution_count": 9,
   "id": "respective-mandate",
   "metadata": {},
   "outputs": [
    {
     "name": "stdout",
     "output_type": "stream",
     "text": [
      "[{'address': '3HPv3dPKCfTBrqsuByr5YskzomN7eHS2Uv', 'value': 346731, 'output': '6a04a343f3662bc0de61c7fd9909e36d60d6b89854b3a1716cdbea021941d97d:0', 'block_height': 680011, 'spend': '131825f3c4ebbf0f01a894b202ec557cf9b982cd844de6b24233e7538dd9f01b:1'}, {'address': '3HPv3dPKCfTBrqsuByr5YskzomN7eHS2Uv', 'value': 499389, 'output': '623f9fe20b7bd8dc69d150fa979f4c75a6c45a2fc86acf28fa1bdad432833121:3', 'block_height': 679772, 'spend': '311d5d01bc2a1f00dcdce2e9d46815bafa05f6a254893c72cc8bf60d3a3f802a:0'}]\n"
     ]
    }
   ],
   "source": [
    "# Import Bitcoin\n",
    "from bitcoin import *\n",
    "\n",
    "#Set an address as a variable and look up transaction history\n",
    "bit_address = '3HPv3dPKCfTBrqsuByr5YskzomN7eHS2Uv'\n",
    "print(history(bit_address))"
   ]
  },
  {
   "cell_type": "markdown",
   "id": "noble-transport",
   "metadata": {},
   "source": [
    "### Sign a message and then recover the public key from the message "
   ]
  },
  {
   "cell_type": "code",
   "execution_count": 10,
   "id": "defined-president",
   "metadata": {},
   "outputs": [
    {
     "name": "stdout",
     "output_type": "stream",
     "text": [
      "HPRspyyfV5hVUImaTv8kIMA9AiGlJUXfZLgNU9l8dIZDNWRNzzIAPqHtNbGePaVa6yEG6zxz8INeAyyESJje8yk=\n"
     ]
    }
   ],
   "source": [
    "# Create a message and sign it with your provate key\n",
    "message = \"The Times 03/Jan/2009 Chancellor on brink of second bailout for banks\"\n",
    "signed_message = ecdsa_sign(message,priv_key)\n",
    "print(signed_message)"
   ]
  },
  {
   "cell_type": "code",
   "execution_count": 11,
   "id": "oriented-century",
   "metadata": {},
   "outputs": [
    {
     "name": "stdout",
     "output_type": "stream",
     "text": [
      "04e8c79a62db13eb1d6aac4bd3bbbbfae6efd2a0e183a9b9fa8f16c65a2c2306f41de02be63cdc5abe065e8e75198c1378720dff2d0e553b48e8888e9989b0d3e7\n"
     ]
    }
   ],
   "source": [
    "# Recover the public key of the message creator \n",
    "message_pubkey = ecdsa_recover(message, signed_message)\n",
    "print(message_pubkey)"
   ]
  },
  {
   "cell_type": "markdown",
   "id": "grave-shark",
   "metadata": {},
   "source": [
    "### Mnemonic Seed Generation"
   ]
  },
  {
   "cell_type": "code",
   "execution_count": 28,
   "id": "becoming-inclusion",
   "metadata": {},
   "outputs": [],
   "source": [
    "from bip_utils import Bip39MnemonicGenerator, Bip39WordsNum, Bip39MnemonicValidator"
   ]
  },
  {
   "cell_type": "code",
   "execution_count": 29,
   "id": "saved-bunch",
   "metadata": {},
   "outputs": [
    {
     "name": "stdout",
     "output_type": "stream",
     "text": [
      "point rocket mammal kit faculty child volcano radio physical junk guilt disease taste exercise solar bounce burden glide rocket shoe liberty seed local warfare\n"
     ]
    }
   ],
   "source": [
    "# Generate a random 24 word mnemonic passphrase\n",
    "mnemonic = Bip39MnemonicGenerator.FromWordsNumber(Bip39WordsNum.WORDS_NUM_24)\n",
    "print(mnemonic)"
   ]
  },
  {
   "cell_type": "code",
   "execution_count": 30,
   "id": "historic-pepper",
   "metadata": {},
   "outputs": [
    {
     "name": "stdout",
     "output_type": "stream",
     "text": [
      "True\n"
     ]
    }
   ],
   "source": [
    "# Validate Mnemonic Phrase via its CheckSum\n",
    "valid_mnemonic = Bip39MnemonicValidator(mnemonic).Validate()\n",
    "print(valid_mnemonic)"
   ]
  }
 ],
 "metadata": {
  "kernelspec": {
   "display_name": "Python 3",
   "language": "python",
   "name": "python3"
  },
  "language_info": {
   "codemirror_mode": {
    "name": "ipython",
    "version": 3
   },
   "file_extension": ".py",
   "mimetype": "text/x-python",
   "name": "python",
   "nbconvert_exporter": "python",
   "pygments_lexer": "ipython3",
   "version": "3.9.1"
  }
 },
 "nbformat": 4,
 "nbformat_minor": 5
}
